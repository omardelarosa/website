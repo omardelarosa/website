{
  "nbformat": 4,
  "nbformat_minor": 0,
  "metadata": {
    "colab": {
      "private_outputs": true,
      "provenance": [],
      "collapsed_sections": [],
      "include_colab_link": true
    },
    "kernelspec": {
      "name": "python3",
      "display_name": "Python 3"
    },
    "language_info": {
      "name": "python"
    },
    "accelerator": "GPU",
    "gpuClass": "standard"
  },
  "cells": [
    {
      "cell_type": "markdown",
      "metadata": {
        "id": "view-in-github",
        "colab_type": "text"
      },
      "source": [
        "<a href=\"https://colab.research.google.com/github/omardelarosa/website/blob/ai-thumbnails/python/AI_Thumbnails_using_stable_diffusion.ipynb\" target=\"_parent\"><img src=\"https://colab.research.google.com/assets/colab-badge.svg\" alt=\"Open In Colab\"/></a>"
      ]
    },
    {
      "cell_type": "code",
      "execution_count": null,
      "metadata": {
        "id": "QuFz5uGi-h6G"
      },
      "outputs": [],
      "source": [
        "%pip install --quiet --upgrade diffusers transformers scipy mediapy"
      ]
    },
    {
      "cell_type": "code",
      "source": [
        "!huggingface-cli login"
      ],
      "metadata": {
        "id": "GR4vF2bw-sHR"
      },
      "execution_count": null,
      "outputs": []
    },
    {
      "cell_type": "code",
      "source": [
        "from diffusers import PNDMScheduler, DDIMScheduler, LMSDiscreteScheduler\n",
        "\n",
        "scheduler = PNDMScheduler(beta_start=0.00085, beta_end=0.012, beta_schedule=\"scaled_linear\", skip_prk_steps=True)\n",
        "# scheduler = DDIMScheduler(beta_start=0.00085, beta_end=0.012, beta_schedule=\"scaled_linear\")\n",
        "# scheduler = LMSDiscreteScheduler(beta_start=0.00085, beta_end=0.012, beta_schedule=\"scaled_linear\")"
      ],
      "metadata": {
        "id": "vF9Q0xKX8gLR"
      },
      "execution_count": null,
      "outputs": []
    },
    {
      "cell_type": "code",
      "source": [
        "import mediapy as media\n",
        "import torch\n",
        "from torch import autocast\n",
        "from diffusers import StableDiffusionPipeline\n",
        "\n",
        "model_id = \"CompVis/stable-diffusion-v1-4\"\n",
        "device = \"cuda\"\n",
        "remove_safety = False\n",
        "\n",
        "\n",
        "pipe = StableDiffusionPipeline.from_pretrained(model_id, scheduler=scheduler, torch_dtype=torch.float16, revision=\"fp16\", use_auth_token=True)\n",
        "if remove_safety:\n",
        "  pipe.safety_checker = lambda images, clip_input: (images, False)\n",
        "pipe = pipe.to(device)\n",
        "\n"
      ],
      "metadata": {
        "id": "bG2hkmSEvByV"
      },
      "execution_count": null,
      "outputs": []
    },
    {
      "cell_type": "code",
      "source": [
        "import json\n",
        "\n",
        "input_file_name = 'prompts.json'\n",
        "\n",
        "prompts = None\n",
        "# Read the file data\n",
        "with open(input_file_name, 'r') as f:\n",
        "    prompts = json.load(f)\n",
        "\n",
        "print(prompts)"
      ],
      "metadata": {
        "id": "lZlBUZpYBh10"
      },
      "execution_count": null,
      "outputs": []
    },
    {
      "cell_type": "code",
      "source": [
        "import pathlib\n",
        "from tqdm import tqdm\n",
        "\n",
        "num_images_per_prompt = 4\n",
        "\n",
        "for prompt_idx, prompt_source_dict in tqdm(enumerate(prompts)):\n",
        "  print(prompt)\n",
        "  print(prompt_source_dict)\n",
        "\n",
        "  style_suffix = \" pixelated, sharp pixels with no border, pixel art, 8bit\"\n",
        "\n",
        "  prompt = prompt_source_dict[\"prompt\"] + style_suffix\n",
        "  outdir = prompt_source_dict[\"outdir\"]\n",
        "\n",
        "  # Create the outdir path for exporting\n",
        "  pathlib.Path(outdir).mkdir(parents=True, exist_ok=True)\n",
        "\n",
        "  _prompts = [ prompt ] * num_images_per_prompt\n",
        "  with autocast(\"cuda\"):\n",
        "      results = pipe(_prompts, guidance_scale=7.5, num_inference_steps=75)\n",
        "      images = results.images\n",
        "  \n",
        "  media.show_images(images)\n",
        "  for idx, img in enumerate(images):\n",
        "    img.save(outdir + f\"/thumbnail_{idx}.jpg\")"
      ],
      "metadata": {
        "id": "AUc4QJfE-uR9"
      },
      "execution_count": null,
      "outputs": []
    }
  ]
}